{
 "cells": [
  {
   "cell_type": "code",
   "execution_count": null,
   "id": "35a55604",
   "metadata": {},
   "outputs": [
    {
     "name": "stdout",
     "output_type": "stream",
     "text": [
      "AI learns patterns from data to make intelligent decisions or predictions.\n"
     ]
    }
   ],
   "source": [
    "from google import genai\n",
    "\n",
    "client = genai.Client(api_key=\"your api key\")\n",
    "\n",
    "response = client.models.generate_content(\n",
    "    model=\"gemini-2.5-flash\", contents=\"Explain how AI works in a few words\"\n",
    ")\n",
    "print(response.text)\n"
   ]
  },
  {
   "cell_type": "code",
   "execution_count": null,
   "id": "13c8d85f",
   "metadata": {},
   "outputs": [],
   "source": [
    "incase of errors : E0912 23:17:13.872000000 28928 grpc_ares_ev_driver_windows.cc:311] ASSERTION FAILED: *from_len <= recv_from_source_addr_len_\n",
    "\n",
    "do it :\n",
    "pip install --upgrade grpcio\n",
    "pip install --upgrade protobuf\n",
    "\n"
   ]
  }
 ],
 "metadata": {
  "kernelspec": {
   "display_name": "video",
   "language": "python",
   "name": "python3"
  },
  "language_info": {
   "codemirror_mode": {
    "name": "ipython",
    "version": 3
   },
   "file_extension": ".py",
   "mimetype": "text/x-python",
   "name": "python",
   "nbconvert_exporter": "python",
   "pygments_lexer": "ipython3",
   "version": "3.10.14"
  }
 },
 "nbformat": 4,
 "nbformat_minor": 5
}
